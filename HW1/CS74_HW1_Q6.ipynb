{
 "cells": [
  {
   "cell_type": "code",
   "execution_count": 2,
   "id": "1bb17cb0-ec34-4aea-9e2a-3f5149c567be",
   "metadata": {
    "tags": []
   },
   "outputs": [
    {
     "data": {
      "text/plain": [
       "Text(0, 0.5, 'Cost')"
      ]
     },
     "execution_count": 3,
     "metadata": {},
     "output_type": "execute_result"
    },
    {
     "data": {
      "image/png": "[encoded data removed]",
      "text/plain": [
       "<Figure size 432x288 with 1 Axes>"
      ]
     },
     "metadata": {
      "needs_background": "light"
     },
     "output_type": "display_data"
    }
   ],
   "source": [
    "# Kevin King\n",
    "# CS 74 HW 1 Q6\n",
    "# Spring 2022\n",
    "\n",
    "import autograd.numpy as np\n",
    "from autograd import grad\n",
    "\n",
    "import matplotlib.pyplot as plt\n",
    "%matplotlib inline \n",
    "\n",
    "def g(w):\n",
    "    return abs(w)\n",
    "\n",
    "# gradient descent function\n",
    "# inputs: g (cost function), alpha (learning rate parameter), max_its (maximum number of iterations), w0 (initialization)\n",
    "def gradient_descent(g, alpha,max_its,w0):\n",
    "    ##Your code here\n",
    "    gradient = grad(g) ## This is how you use the autograd library to find the gradient of a function  \n",
    "    cost_history = []\n",
    "    weight_history = []\n",
    "    \n",
    "    for k in range(max_its):\n",
    "        w0 = w0 - alpha*gradient(w0)\n",
    "        cost_history.append(g(w0))\n",
    "        weight_history.append(w0)\n",
    "    \n",
    "    return weight_history, cost_history\n",
    "\n",
    "alpha = 0.5\n",
    "max_its = 20\n",
    "w0 = 1.75\n",
    "weight, cost = gradient_descent(g, alpha, max_its, w0)\n",
    "\n",
    "# include legend?\n",
    "plt.plot(weight, cost)\n",
    "plt.xlabel('Weight')\n",
    "plt.ylabel('Cost')"
   ]
  },
  {
   "cell_type": "code",
   "execution_count": null,
   "id": "ece8cf62",
   "metadata": {
    "tags": []
   },
   "outputs": [],
   "source": []
  },
  {
   "cell_type": "code",
   "execution_count": null,
   "id": "92543c1c",
   "metadata": {
    "tags": []
   },
   "outputs": [],
   "source": []
  },
  {
   "cell_type": "code",
   "execution_count": null,
   "id": "9bf8bdde-28f1-42c5-a1b4-e28bd9066f7f",
   "metadata": {},
   "outputs": [],
   "source": []
  }
 ],
 "metadata": {
  "kernelspec": {
   "display_name": "Python 3 (ipykernel)",
   "language": "python",
   "name": "python3"
  },
  "language_info": {
   "codemirror_mode": {
    "name": "ipython",
    "version": 3
   },
   "file_extension": ".py",
   "mimetype": "text/x-python",
   "name": "python",
   "nbconvert_exporter": "python",
   "pygments_lexer": "ipython3",
   "version": "3.9.1"
  }
 },
 "nbformat": 4,
 "nbformat_minor": 5
}
