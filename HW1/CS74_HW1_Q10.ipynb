{
 "cells": [
  {
   "cell_type": "code",
   "execution_count": 22,
   "id": "54dc70f2-6ec5-41f1-8ae2-b09da3ca702f",
   "metadata": {},
   "outputs": [
    {
     "name": "stdout",
     "output_type": "stream",
     "text": [
      "5.044939764669806\n"
     ]
    },
    {
     "data": {
      "text/plain": [
       "Text(0, 0.5, 'Cost')"
      ]
     },
     "execution_count": 22,
     "metadata": {},
     "output_type": "execute_result"
    },
    {
     "data": {
      "image/png": "[encoded data removed]",
      "text/plain": [
       "<Figure size 432x288 with 1 Axes>"
      ]
     },
     "metadata": {
      "needs_background": "light"
     },
     "output_type": "display_data"
    }
   ],
   "source": [
    "import autograd.numpy as np\n",
    "from autograd import grad \n",
    "import matplotlib.pyplot as plt\n",
    "%matplotlib inline \n",
    "\n",
    "def g(w):\n",
    "    return w[0]**2 + w[1]**2 + 2.0*np.sin(1.5*(w[0]+w[1])) + 2.0\n",
    "\n",
    "#gradient descent function\n",
    "#inputs: g (cost function), alpha (learning rate parameter), max_its (maximum number of iterations), w (initialization)\n",
    "def gradient_descent(g,alpha,max_its,w0):\n",
    "    gradient = grad(g)   ## This is how you use the autograd library to find the gradient of a function  \n",
    "    ##Your code here \n",
    "    cost_history = []\n",
    "    weight_history = []\n",
    "    w = np.array(w0)\n",
    "    weight_history.append(w)\n",
    "    \n",
    "    for i in range(0, max_its+1):\n",
    "        w = w - alpha*gradient(w)\n",
    "        cost_history.append(g(w))\n",
    "        weight_history.append(w)\n",
    "    \n",
    "    return weight_history,cost_history\n",
    "\n",
    "print(g([1,2]))\n",
    "\n",
    "w0 = [3.0, 3.0]\n",
    "max_its = 10\n",
    "alpha = 0.01\n",
    "\n",
    "first_wh, first_ch = gradient_descent(g, alpha, max_its, w0)\n",
    "xticks = [x for x in range(0, max_its+1, 1)]\n",
    "\n",
    "# include legend?\n",
    "plt.plot(xticks, first_ch, 'r--')\n",
    "plt.xlabel('Step k')\n",
    "plt.ylabel('Cost')\n",
    "\n"
   ]
  },
  {
   "cell_type": "code",
   "execution_count": null,
   "id": "ae434c38-1724-43d3-94cf-988fe405753b",
   "metadata": {},
   "outputs": [],
   "source": []
  },
  {
   "cell_type": "code",
   "execution_count": null,
   "id": "e144fc12-136c-4894-8ff5-dceed21d700d",
   "metadata": {},
   "outputs": [],
   "source": []
  }
 ],
 "metadata": {
  "kernelspec": {
   "display_name": "Python 3 (ipykernel)",
   "language": "python",
   "name": "python3"
  },
  "language_info": {
   "codemirror_mode": {
    "name": "ipython",
    "version": 3
   },
   "file_extension": ".py",
   "mimetype": "text/x-python",
   "name": "python",
   "nbconvert_exporter": "python",
   "pygments_lexer": "ipython3",
   "version": "3.9.1"
  }
 },
 "nbformat": 4,
 "nbformat_minor": 5
}
