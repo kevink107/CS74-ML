{
 "cells": [
  {
   "cell_type": "code",
   "execution_count": 8,
   "id": "ee31be57-5e29-4865-a935-f4c73dd9ac7f",
   "metadata": {},
   "outputs": [
    {
     "name": "stdout",
     "output_type": "stream",
     "text": [
      "[0.75, -0.25, 0.25, -0.08333333333333331, 0.16666666666666669, -0.033333333333333326, 0.13333333333333333, -0.009523809523809518, 0.11547619047619048, 0.004365079365079377, -0.09563492063492063, -0.004725829725829717, 0.07860750360750361, 0.0016844266844266848, -0.06974414474414474, -0.003077478077478074, 0.059422521922521926, 0.0005989925107572208, -0.05495656304479833, -0.0023249840974299135, 0.04767501590257009]\n",
      "[0.75, 0.25, 0.25, 0.08333333333333331, 0.16666666666666669, 0.033333333333333326, 0.13333333333333333, 0.009523809523809518, 0.11547619047619048, 0.004365079365079377, 0.09563492063492063, 0.004725829725829717, 0.07860750360750361, 0.0016844266844266848, 0.06974414474414474, 0.003077478077478074, 0.059422521922521926, 0.0005989925107572208, 0.05495656304479833, 0.0023249840974299135, 0.04767501590257009]\n"
     ]
    }
   ],
   "source": [
    "from autograd import grad \n",
    "\n",
    "def g(w):\n",
    "    return abs(w)\n",
    "\n",
    "#gradient descent function\n",
    "#inputs: g (cost function), alpha (learning rate parameter), max_its (maximum number of iterations), w (initialization)\n",
    "def gradient_descent(g,alpha,max_its,w0):\n",
    "    gradient = grad(g)   ## This is how you use the autograd library to find the gradient of a function \n",
    "    weight_history = []\n",
    "    cost_history = []\n",
    "    a = 1\n",
    "    \n",
    "    ##Your code here\n",
    "    if alpha=='diminishing':\n",
    "        #pass\n",
    "        for k in range(0, max_its+1):\n",
    "            dgdw = w0 / abs(w0)\n",
    "            if k >= 1:\n",
    "                a = 1/k # updates alpha at each step\n",
    "            w0 = w0 - a*gradient(w0)\n",
    "            cost_history.append(g(w0))\n",
    "            weight_history.append(w0)\n",
    "    else:\n",
    "        pass\n",
    "    return weight_history,cost_history\n",
    "\n",
    "max_its = 20\n",
    "w0 = 1.75\n",
    "k = 1\n",
    "alpha = 'diminishing'\n",
    "weight, cost = gradient_descent(g, alpha, max_its, w0)\n",
    "\n"
   ]
  },
  {
   "cell_type": "code",
   "execution_count": null,
   "id": "99d22028-276d-427e-b84b-613924b8c192",
   "metadata": {},
   "outputs": [],
   "source": []
  },
  {
   "cell_type": "code",
   "execution_count": null,
   "id": "21327578-5f02-4a86-a1d7-59ff5347b7a7",
   "metadata": {},
   "outputs": [],
   "source": []
  }
 ],
 "metadata": {
  "kernelspec": {
   "display_name": "Python 3 (ipykernel)",
   "language": "python",
   "name": "python3"
  },
  "language_info": {
   "codemirror_mode": {
    "name": "ipython",
    "version": 3
   },
   "file_extension": ".py",
   "mimetype": "text/x-python",
   "name": "python",
   "nbconvert_exporter": "python",
   "pygments_lexer": "ipython3",
   "version": "3.9.1"
  }
 },
 "nbformat": 4,
 "nbformat_minor": 5
}
