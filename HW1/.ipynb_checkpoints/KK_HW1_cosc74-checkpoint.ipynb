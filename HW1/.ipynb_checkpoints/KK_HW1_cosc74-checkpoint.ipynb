{
 "cells": [
  {
   "cell_type": "markdown",
   "metadata": {},
   "source": [
    "# HW1  Try out gradient descent\n"
   ]
  },
  {
   "cell_type": "markdown",
   "metadata": {},
   "source": [
    "You should submit this jupyter notebook with your solutions. The solutions should include the code and also the output of all the cells.\n",
    "\n",
    "Note that for the problmes that require a cost function as input you should always use the most recent cost function that you have implemented (unless specified otherwise)."
   ]
  },
  {
   "cell_type": "markdown",
   "metadata": {},
   "source": [
    "1) [5 points] Calculate the derivative of following cost function and write it down:\n",
    "\n",
    "$g(w) = \\frac{1}{50}\\left(w^4 + w^2 + 10w - 50 \\right)$"
   ]
  },
  {
   "cell_type": "markdown",
   "metadata": {},
   "source": [
    "$\\frac{\\partial}{\\partial w}g(w) = \\frac{1}{50}(4w^3 + 2w + 10)$"
   ]
  },
  {
   "cell_type": "markdown",
   "metadata": {},
   "source": [
    "2) [25 points] Implement the gradient descent function as discussed in class using the gradient derived in the last problem. The function should return the cost history for each step. Use the code template below:\n"
   ]
  },
  {
   "cell_type": "code",
   "execution_count": 1,
   "metadata": {},
   "outputs": [],
   "source": [
    "# gradient descent function\n",
    "# inputs: alpha (learning rate parameter), max_its (maximum number of iterations), w0 (initialization)\n",
    "def gradient_descent(alpha,max_its,w0):\n",
    "    ##Your code here\n",
    "    cost_history = []\n",
    "\n",
    "    for k in range(0, max_its):\n",
    "        gw = (1/50)*(w0**4 + w0**2 + 10*w0 - 50)\n",
    "        dgdw = (1/50)*(4*w0**3 + 2*w0 + 10)\n",
    "        w0 = w0 - alpha*dgdw\n",
    "        cost_history.append(gw)\n",
    "\n",
    "    return cost_history"
   ]
  },
  {
   "cell_type": "markdown",
   "metadata": {},
   "source": [
    "3) [10 points] Run the gradient_descent function you implemented three times, with the following parameters. Generate a single plot showing the cost as a function of step number for all three runs (combine all three runs into a single plot). If you are not familiar with plotting in python, here is the docs for matplotlib:(https://matplotlib.org/3.2.1/api/_as_gen/matplotlib.pyplot.plot.html#matplotlib.pyplot.plot). \n",
    "\n",
    "\n",
    "$w^0$ = 2.0\n",
    "max_its = 1000\n",
    "\n",
    "# first run\n",
    "alpha = 1\n",
    "# second run\n",
    "alpha = 0.1\n",
    "# third run\n",
    "alpha = 0.01\n"
   ]
  },
  {
   "cell_type": "code",
   "execution_count": 4,
   "metadata": {},
   "outputs": [
    {
     "data": {
      "text/plain": [
       "Text(0.5, 1.0, 'Cost vs. Step')"
      ]
     },
     "execution_count": 4,
     "metadata": {},
     "output_type": "execute_result"
    },
    {
     "data": {
      "image/png": "[encoded data removed]",
      "text/plain": [
       "<Figure size 432x288 with 1 Axes>"
      ]
     },
     "metadata": {
      "needs_background": "light"
     },
     "output_type": "display_data"
    }
   ],
   "source": [
    "import matplotlib.pyplot as plt\n",
    "%matplotlib inline \n",
    "\n",
    "#gradient descent function\n",
    "#inputs: alpha (learning rate parameter), max_its (maximum number of iterations), w0 (initialization)\n",
    "def gradient_descent(alpha,max_its,w0):\n",
    "    ##Your code here\n",
    "    cost_history = []\n",
    "    \n",
    "    for i in range(0, max_its):\n",
    "        gw = (1/50)*(w0**4 + w0**2 + 10*w0 - 50)\n",
    "        dgdw = (1/50)*(4*w0**3 + 2*w0 + 10)\n",
    "        w0 = w0 - alpha*dgdw\n",
    "        cost_history.append(gw)\n",
    "    \n",
    "    return cost_history\n",
    "\n",
    "##Your code here\n",
    "max_its = 1000\n",
    "w0 = 2.0\n",
    "first_run = gradient_descent(1,max_its,w0)\n",
    "second_run = gradient_descent(0.1,max_its,w0)\n",
    "third_run = gradient_descent(0.01,max_its,w0)\n",
    "\n",
    "x = range(max_its)\n",
    "\n",
    "# include legend?\n",
    "plt.plot(x, first_run, 'r--')\n",
    "plt.plot(x, second_run, 'b--')\n",
    "plt.plot(x, third_run, 'g--')\n",
    "plt.xlabel('Step k')\n",
    "plt.ylabel('Cost')\n",
    "plt.title('Cost vs. Step')"
   ]
  },
  {
   "cell_type": "markdown",
   "metadata": {},
   "source": [
    "For the next few problems we will be comparing fixed and diminishing learning rates"
   ]
  },
  {
   "cell_type": "markdown",
   "metadata": {},
   "source": [
    "Take the following cost function:\n",
    "\\begin{equation}\n",
    "g(w) = \\left \\vert w \\right \\vert\n",
    "\\end{equation}"
   ]
  },
  {
   "cell_type": "markdown",
   "metadata": {
    "tags": []
   },
   "source": [
    "4) [5 points] Is this function convex? If no, why not? If yes, where is its global minimum?"
   ]
  },
  {
   "cell_type": "markdown",
   "metadata": {
    "tags": []
   },
   "source": [
    "Our definition of a convex function is when you can draw a line segment between any two points on the graph of the function, and it will lie above or on the graph. The absolute value cost function $g(w)=|w|$ is in the shape of a V. Thus, the definition holds true, and it is convex. The global minimum of the cost function is located at $(0,0)$."
   ]
  },
  {
   "cell_type": "markdown",
   "metadata": {},
   "source": [
    "5) [5 points] What is the derivative of the cost function? "
   ]
  },
  {
   "cell_type": "markdown",
   "metadata": {},
   "source": [
    "The derivative of the cost function $g(w)=|w|$ is $\\frac{\\partial}{\\partial w}g(w) = \\frac{w}{|w|}$, except when $w=0$ where the derivative is undefined."
   ]
  },
  {
   "cell_type": "markdown",
   "metadata": {},
   "source": [
    "6) [20 points] Rewrite the gradient descent function from question 2 such that it takes the cost function g as input and uses the autograd library to calculate the gradient. The function should return the weight and cost history for each step. Use the code template below.\n",
    "\n",
    "autograd is a python package for automatic calculation of the gradient. Here is a tutorial on it: (http://www.cs.toronto.edu/~rgrosse/courses/csc321_2017/tutorials/tut4.pdf\n",
    "\n",
    "Note that in Python you can pass functions around like any other variables. That is why you can pass the cost function g to the gradient_descent function. \n",
    "\n",
    "You should be able to install it by running \"pip install autograd\" in a cell in your Jupyter notebook."
   ]
  },
  {
   "cell_type": "code",
   "execution_count": 4,
   "metadata": {},
   "outputs": [],
   "source": [
    "import autograd.numpy as np\n",
    "from autograd import grad \n",
    "\n",
    "def g(w):\n",
    "    return abs(w)\n",
    "\n",
    "# gradient descent function\n",
    "# inputs: g (cost function), alpha (learning rate parameter), max_its (maximum number of iterations), w0 (initialization)\n",
    "def gradient_descent(g, alpha,max_its,w0):\n",
    "    ##Your code here\n",
    "    gradient = grad(g) ## This is how you use the autograd library to find the gradient of a function  \n",
    "    cost_history = []\n",
    "    weight_history = []\n",
    "    weight_history.append(w0)\n",
    "    cost_history.append(g(w0))\n",
    "    \n",
    "    for i in range(1, max_its):\n",
    "        w0 = w0 - alpha*gradient(w0)\n",
    "        cost_history.append(g(w0))\n",
    "        weight_history.append(w0)\n",
    "    \n",
    "    return weight_history, cost_history\n",
    "\n"
   ]
  },
  {
   "cell_type": "markdown",
   "metadata": {},
   "source": [
    "7) [10 points] Make a run of max_its=20 steps of gradient descent with initialization at the point $w^0 = 1.75$, and a fixed learning rate of $\\alpha = 0.5$. Using the cost and weight history, plot the cost as a function of the weight for each step (cost on y-axis, weight on x-axis). Recall that the terms weight and parameter used interchangeably and both refer to w."
   ]
  },
  {
   "cell_type": "code",
   "execution_count": 5,
   "metadata": {},
   "outputs": [
    {
     "data": {
      "text/plain": [
       "Text(0, 0.5, 'Cost')"
      ]
     },
     "execution_count": 5,
     "metadata": {},
     "output_type": "execute_result"
    },
    {
     "data": {
      "image/png": "[encoded data removed]",
      "text/plain": [
       "<Figure size 432x288 with 1 Axes>"
      ]
     },
     "metadata": {
      "needs_background": "light"
     },
     "output_type": "display_data"
    }
   ],
   "source": [
    "import autograd.numpy as np\n",
    "from autograd import grad\n",
    "\n",
    "import matplotlib.pyplot as plt\n",
    "%matplotlib inline \n",
    "\n",
    "def g(w):\n",
    "    return abs(w)\n",
    "\n",
    "# gradient descent function\n",
    "# inputs: g (cost function), alpha (learning rate parameter), max_its (maximum number of iterations), w0 (initialization)\n",
    "def gradient_descent(g, alpha,max_its,w0):\n",
    "    ##Your code here\n",
    "    gradient = grad(g) ## This is how you use the autograd library to find the gradient of a function  \n",
    "    cost_history = []\n",
    "    weight_history = []\n",
    "    weight_history.append(w0)\n",
    "    cost_history.append(g(w0))\n",
    "    \n",
    "    for k in range(1, max_its):\n",
    "        w0 = w0 - alpha*gradient(w0)\n",
    "        cost_history.append(g(w0))\n",
    "        weight_history.append(w0)\n",
    "    \n",
    "    return weight_history, cost_history\n",
    "\n",
    "alpha = 0.5\n",
    "max_its = 20\n",
    "w0 = 1.75\n",
    "weight, cost = gradient_descent(g, alpha, max_its, w0)\n",
    "\n",
    "plt.plot(weight, cost)\n",
    "plt.xlabel('Weight')\n",
    "plt.ylabel('Cost')"
   ]
  },
  {
   "cell_type": "markdown",
   "metadata": {},
   "source": [
    "8) [15 points] Make a run of max_its=20 steps of gradient descent with initialization at the point $w^0 = 1.75$, using the diminishing rule $\\alpha = \\frac{1}{k}$ (for this you have to modify the gradient_descent function slightly. Use the code template below. Using the cost and wiehgt history, plot the cost as a function of the weight for each step (cost on y-axis, weight on x-axis)"
   ]
  },
  {
   "cell_type": "code",
   "execution_count": 6,
   "metadata": {},
   "outputs": [
    {
     "data": {
      "text/plain": [
       "Text(0, 0.5, 'Cost')"
      ]
     },
     "execution_count": 6,
     "metadata": {},
     "output_type": "execute_result"
    },
    {
     "data": {
      "image/png": "[encoded data removed]",
      "text/plain": [
       "<Figure size 432x288 with 1 Axes>"
      ]
     },
     "metadata": {
      "needs_background": "light"
     },
     "output_type": "display_data"
    }
   ],
   "source": [
    "from autograd import grad \n",
    "\n",
    "def g(w):\n",
    "    return abs(w)\n",
    "\n",
    "#gradient descent function\n",
    "#inputs: g (cost function), alpha (learning rate parameter), max_its (maximum number of iterations), w (initialization)\n",
    "def gradient_descent(g,alpha,max_its,w0):\n",
    "    gradient = grad(g)   ## This is how you use the autograd library to find the gradient of a function \n",
    "    weight_history = []\n",
    "    cost_history = []\n",
    "    weight_history.append(w0)\n",
    "    cost_history.append(g(w0))\n",
    "    a = 1\n",
    "    \n",
    "    ##Your code here\n",
    "    if alpha=='diminishing':\n",
    "        for k in range(1, max_its):\n",
    "            a = 1/k # updates alpha at each step\n",
    "            w0 = w0 - a*gradient(w0)\n",
    "            cost_history.append(g(w0))\n",
    "            weight_history.append(w0)\n",
    "    else:\n",
    "        for k in range(1, max_its):\n",
    "            w0 = w0 - alpha*gradient(w0)\n",
    "            cost_history.append(g(w0))\n",
    "            weight_history.append(w0)\n",
    "    return weight_history,cost_history\n",
    "\n",
    "max_its = 20\n",
    "w0 = 1.75\n",
    "alpha = 'diminishing'\n",
    "weight, cost = gradient_descent(g, alpha, max_its, w0)\n",
    "\n",
    "plt.plot(weight, cost, 'b-')\n",
    "plt.xlabel('Weight')\n",
    "plt.ylabel('Cost')"
   ]
  },
  {
   "cell_type": "markdown",
   "metadata": {},
   "source": [
    "9) [10 points]  Generate a single plot showing the cost as a function of step number for both runs (combine all  runs into a single plot). Which approach works better? Why ?"
   ]
  },
  {
   "cell_type": "code",
   "execution_count": 10,
   "metadata": {},
   "outputs": [
    {
     "data": {
      "text/plain": [
       "Text(0, 0.5, 'Cost')"
      ]
     },
     "execution_count": 10,
     "metadata": {},
     "output_type": "execute_result"
    },
    {
     "data": {
      "image/png": "[encoded data removed]",
      "text/plain": [
       "<Figure size 432x288 with 1 Axes>"
      ]
     },
     "metadata": {
      "needs_background": "light"
     },
     "output_type": "display_data"
    }
   ],
   "source": [
    "from autograd import grad \n",
    "\n",
    "def g(w):\n",
    "    return abs(w)\n",
    "\n",
    "#gradient descent function\n",
    "#inputs: g (cost function), alpha (learning rate parameter), max_its (maximum number of iterations), w (initialization)\n",
    "def gradient_descent(g,alpha,max_its,w0):\n",
    "    gradient = grad(g)   ## This is how you use the autograd library to find the gradient of a function \n",
    "    weight_history = []\n",
    "    cost_history = []\n",
    "    weight_history.append(w0)\n",
    "    cost_history.append(g(w0))\n",
    "    \n",
    "    ##Your code here\n",
    "    if alpha=='diminishing':\n",
    "        a = 1\n",
    "        for k in range(1, max_its):\n",
    "            if k >= 1:\n",
    "                a = 1/k # updates alpha at each step\n",
    "            w0 = w0 - a*gradient(w0)\n",
    "            cost_history.append(g(w0))\n",
    "            weight_history.append(w0)\n",
    "    else:\n",
    "        for k in range(1, max_its):\n",
    "            w0 = w0 - alpha*gradient(w0)\n",
    "            cost_history.append(g(w0))\n",
    "            weight_history.append(w0)\n",
    "    \n",
    "    return weight_history,cost_history\n",
    "\n",
    "max_its = 20\n",
    "w0 = 1.75\n",
    "\n",
    "alpha1 = 'diminishing'\n",
    "weight1, cost1 = gradient_descent(g, alpha1, max_its, w0)\n",
    "\n",
    "alpha2 = 0.5\n",
    "weight2, cost2 = gradient_descent(g, alpha2, max_its, w0)\n",
    "\n",
    "x = range(max_its)\n",
    "\n",
    "plt.plot(x, cost1, 'b-', x, cost2, 'r-')\n",
    "plt.xlabel('Weight')\n",
    "plt.ylabel('Cost')"
   ]
  },
  {
   "cell_type": "markdown",
   "metadata": {},
   "source": [
    "The diminishing alpha method works better because it converses towards the global minimum of the function and provides \n",
    "a more precise representation of the cost function, whereas the costs of the original method are more spread out and don't converge as closely to the global minimum in comparison. "
   ]
  },
  {
   "cell_type": "markdown",
   "metadata": {},
   "source": [
    "We will now look at the oscilating behavior of gradient descent. \n",
    "\n",
    "Take the following cost function:\n",
    "$g(w) = w_0^2 + w_1^2 + 2\\sin(1.5 (w_0 + w_1)) +2$\n",
    "\n",
    "Note that this cost function has two parameters."
   ]
  },
  {
   "cell_type": "markdown",
   "metadata": {},
   "source": [
    "10) [5 points] Make sure your gradient descent function from problem 6 can handle cost functions with more than one parameter. You may need to rewrite it if you were not careful. Use the code template below (if your function from problem 6 is good, you can just copy and paste it here)"
   ]
  },
  {
   "cell_type": "code",
   "execution_count": 8,
   "metadata": {},
   "outputs": [],
   "source": [
    "import autograd.numpy as np\n",
    "from autograd import grad \n",
    "import matplotlib.pyplot as plt\n",
    "%matplotlib inline \n",
    "\n",
    "def g(w):\n",
    "    return w[0]**2 + w[1]**2 + 2.0*np.sin(1.5*(w[0]+w[1])) + 2.0\n",
    "\n",
    "#gradient descent function\n",
    "#inputs: g (cost function), alpha (learning rate parameter), max_its (maximum number of iterations), w (initialization)\n",
    "def gradient_descent(g,alpha,max_its,w0):\n",
    "    gradient = grad(g)   ## This is how you use the autograd library to find the gradient of a function  \n",
    "    ##Your code here \n",
    "    cost_history = []\n",
    "    weight_history = []\n",
    "    weight_history.append(w0)\n",
    "    \n",
    "    for i in range(1, max_its):\n",
    "        w0 = w0 - alpha*gradient(w0)\n",
    "        cost_history.append(g(w0))\n",
    "        weight_history.append(w0)\n",
    "    \n",
    "    return weight_history,cost_history\n"
   ]
  },
  {
   "cell_type": "markdown",
   "metadata": {},
   "source": [
    "11) [10 points] Run the gradient_descent function with the cost function above three times with the following parameters. Generate a single plot showing the cost as a function of step number for all three runs (combine all three runs into a single plot). Use the code template below. Which alpha leads to an oscillating behavior?\n",
    "\n",
    "$w^0$ = [3.0,3.0]\n",
    "max_its = 10\n",
    "\n",
    "# first run\n",
    "alpha = 0.01\n",
    "# second run\n",
    "alpha = 0.1\n",
    "# third run\n",
    "alpha = 1\n",
    "\n"
   ]
  },
  {
   "cell_type": "code",
   "execution_count": 12,
   "metadata": {
    "tags": []
   },
   "outputs": [
    {
     "data": {
      "text/plain": [
       "Text(0.5, 1.0, 'Cost vs. Step')"
      ]
     },
     "execution_count": 12,
     "metadata": {},
     "output_type": "execute_result"
    },
    {
     "data": {
      "image/png": "[encoded data removed]",
      "text/plain": [
       "<Figure size 432x288 with 1 Axes>"
      ]
     },
     "metadata": {
      "needs_background": "light"
     },
     "output_type": "display_data"
    }
   ],
   "source": [
    "import autograd.numpy as np\n",
    "from autograd import grad \n",
    "import matplotlib.pyplot as plt\n",
    "%matplotlib inline \n",
    "\n",
    "def g(w):\n",
    "    return w[0]**2 + w[1]**2 + 2.0*np.sin(1.5*(w[0]+w[1])) + 2.0\n",
    "\n",
    "#gradient descent function\n",
    "#inputs: g (cost function), alpha (learning rate parameter), max_its (maximum number of iterations), w (initialization)\n",
    "def gradient_descent(g,alpha,max_its,w0):\n",
    "    gradient = grad(g)   ## This is how you use the autograd library to find the gradient of a function  \n",
    "    ##Your code here \n",
    "    cost_history = []\n",
    "    weight_history = []\n",
    "    weight_history.append(w0)\n",
    "    cost_history.append(g(w0))\n",
    "    \n",
    "    for i in range(1, max_its):\n",
    "        w0 = w0 - alpha*gradient(w0)\n",
    "        cost_history.append(g(w0))\n",
    "        weight_history.append(w0)\n",
    "    \n",
    "    return weight_history,cost_history\n",
    "\n",
    "w0 = np.array([3.0, 3.0])\n",
    "max_its = 10\n",
    "alpha1 = 0.01\n",
    "alpha2 = 0.1\n",
    "alpha3 = 1\n",
    "x = range(max_its)\n",
    "\n",
    "first_wh, first_ch = gradient_descent(g, alpha1, max_its, w0)\n",
    "second_wh, second_ch = gradient_descent(g, alpha2, max_its, w0)\n",
    "third_wh, third_ch = gradient_descent(g, alpha3, max_its, w0)\n",
    "\n",
    "plt.plot(x, first_ch, 'r-')\n",
    "plt.plot(x, second_ch, 'b-')\n",
    "plt.plot(x, third_ch, 'g-')\n",
    "plt.xlabel('Step k')\n",
    "plt.ylabel('Cost')\n",
    "plt.title('Cost vs. Step')\n"
   ]
  },
  {
   "cell_type": "markdown",
   "metadata": {},
   "source": [
    "The third alpha (in green) led to an oscillating behavior."
   ]
  },
  {
   "cell_type": "markdown",
   "metadata": {},
   "source": [
    "12) [15 points] This problem is about learning to tune fixed step length for gradient descent. Here, you are given a cost function:\n",
    "$g(w) = 2w_0^2 + w_1^2 +4w_2^2$ \n",
    "\n",
    "Assume your $w^0$= [5,5,5] and your max_iter = 100\n",
    "\n",
    "Use your latest gradient descent function with a fixed learning rate. Play around with at least 5 different values of alpha (using your intuition). Generate a single plot of the cost as a function of the number of iterations. Which value of alpha seems to converge the fastest?\n",
    "\n",
    "Not that your grade will not depend on how well you do, as long as you try at least 5 different values for alpha and plot them."
   ]
  },
  {
   "cell_type": "code",
   "execution_count": 14,
   "metadata": {},
   "outputs": [
    {
     "data": {
      "text/plain": [
       "Text(0.5, 1.0, 'Cost vs. Step')"
      ]
     },
     "execution_count": 14,
     "metadata": {},
     "output_type": "execute_result"
    },
    {
     "data": {
      "image/png": "[encoded data removed]",
      "text/plain": [
       "<Figure size 432x288 with 1 Axes>"
      ]
     },
     "metadata": {
      "needs_background": "light"
     },
     "output_type": "display_data"
    }
   ],
   "source": [
    "import autograd.numpy as np\n",
    "from autograd import grad \n",
    "import matplotlib.pyplot as plt\n",
    "%matplotlib inline \n",
    "\n",
    "def g(w):\n",
    "    return 2*w[0]**2 + w[1]**2 + 4*w[2]**2\n",
    "\n",
    "#gradient descent function\n",
    "#inputs: g (cost function), alpha (learning rate parameter), max_its (maximum number of iterations), w (initialization)\n",
    "def gradient_descent(g,alpha,max_its,w0):\n",
    "    gradient = grad(g)   ## This is how you use the autograd library to find the gradient of a function  \n",
    "    ##Your code here \n",
    "    cost_history = []\n",
    "    weight_history = []\n",
    "    weight_history.append(w0)\n",
    "    cost_history.append(g(w0))\n",
    "    \n",
    "    for i in range(1, max_its):\n",
    "        w0 = w0 - alpha*gradient(w0)\n",
    "        cost_history.append(g(w0))\n",
    "        weight_history.append(w0)\n",
    "    \n",
    "    return weight_history,cost_history\n",
    "\n",
    "w0 = np.array([5.0,5.0,5.0])\n",
    "max_its = 100\n",
    "alpha1 = 0.01\n",
    "alpha2 = 0.05\n",
    "alpha3 = 0.1\n",
    "alpha4 = 0.15\n",
    "alpha5 = 0.2\n",
    "x = range(max_its)\n",
    "\n",
    "first_wh, first_ch = gradient_descent(g, alpha1, max_its, w0)\n",
    "second_wh, second_ch = gradient_descent(g, alpha2, max_its, w0)\n",
    "third_wh, third_ch = gradient_descent(g, alpha3, max_its, w0)\n",
    "fourth_wh, fourth_ch = gradient_descent(g, alpha4, max_its, w0)\n",
    "fifth_wh, fifth_ch = gradient_descent(g, alpha5, max_its, w0)\n",
    "\n",
    "\n",
    "plt.plot(x, first_ch, 'r-')\n",
    "plt.plot(x, second_ch, 'b-')\n",
    "plt.plot(x, third_ch, 'g-')\n",
    "plt.plot(x, fourth_ch, 'y-')\n",
    "plt.plot(x, fifth_ch, 'm-')\n",
    "plt.xlabel('Step k')\n",
    "plt.ylabel('Cost')\n",
    "plt.title('Cost vs. Step')"
   ]
  },
  {
   "cell_type": "markdown",
   "metadata": {},
   "source": [
    "The learning rate of 0.2 (represented in magenta) seemed to converge the fastest."
   ]
  }
 ],
 "metadata": {
  "kernelspec": {
   "display_name": "Python 3 (ipykernel)",
   "language": "python",
   "name": "python3"
  },
  "language_info": {
   "codemirror_mode": {
    "name": "ipython",
    "version": 3
   },
   "file_extension": ".py",
   "mimetype": "text/x-python",
   "name": "python",
   "nbconvert_exporter": "python",
   "pygments_lexer": "ipython3",
   "version": "3.9.1"
  }
 },
 "nbformat": 4,
 "nbformat_minor": 4
}
