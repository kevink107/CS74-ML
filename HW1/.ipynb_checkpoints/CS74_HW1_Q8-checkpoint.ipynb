{
 "cells": [
  {
   "cell_type": "code",
   "execution_count": 7,
   "id": "ee31be57-5e29-4865-a935-f4c73dd9ac7f",
   "metadata": {},
   "outputs": [
    {
     "ename": "ZeroDivisionError",
     "evalue": "division by zero",
     "output_type": "error",
     "traceback": [
      "\u001b[0;31m---------------------------------------------------------------------------\u001b[0m",
      "\u001b[0;31mZeroDivisionError\u001b[0m                         Traceback (most recent call last)",
      "Input \u001b[0;32mIn [7]\u001b[0m, in \u001b[0;36m<cell line: 32>\u001b[0;34m()\u001b[0m\n\u001b[1;32m     30\u001b[0m k \u001b[38;5;241m=\u001b[39m \u001b[38;5;241m1\u001b[39m\n\u001b[1;32m     31\u001b[0m alpha \u001b[38;5;241m=\u001b[39m \u001b[38;5;124m'\u001b[39m\u001b[38;5;124mdiminishing\u001b[39m\u001b[38;5;124m'\u001b[39m\n\u001b[0;32m---> 32\u001b[0m weight, cost \u001b[38;5;241m=\u001b[39m \u001b[43mgradient_descent\u001b[49m\u001b[43m(\u001b[49m\u001b[43mg\u001b[49m\u001b[43m,\u001b[49m\u001b[43m \u001b[49m\u001b[43malpha\u001b[49m\u001b[43m,\u001b[49m\u001b[43m \u001b[49m\u001b[43mmax_its\u001b[49m\u001b[43m,\u001b[49m\u001b[43m \u001b[49m\u001b[43mw0\u001b[49m\u001b[43m)\u001b[49m\n\u001b[1;32m     33\u001b[0m \u001b[38;5;28mprint\u001b[39m(weight)\n\u001b[1;32m     34\u001b[0m \u001b[38;5;28mprint\u001b[39m(cost)\n",
      "Input \u001b[0;32mIn [7]\u001b[0m, in \u001b[0;36mgradient_descent\u001b[0;34m(g, alpha, max_its, w0)\u001b[0m\n\u001b[1;32m     17\u001b[0m \u001b[38;5;28;01mfor\u001b[39;00m k \u001b[38;5;129;01min\u001b[39;00m \u001b[38;5;28mrange\u001b[39m(\u001b[38;5;241m0\u001b[39m, max_its\u001b[38;5;241m+\u001b[39m\u001b[38;5;241m1\u001b[39m):\n\u001b[1;32m     18\u001b[0m     dgdw \u001b[38;5;241m=\u001b[39m w0 \u001b[38;5;241m/\u001b[39m \u001b[38;5;28mabs\u001b[39m(w0)\n\u001b[0;32m---> 19\u001b[0m     a \u001b[38;5;241m=\u001b[39m \u001b[38;5;241;43m1\u001b[39;49m\u001b[38;5;241;43m/\u001b[39;49m\u001b[43mk\u001b[49m \u001b[38;5;66;03m# updates alpha at each step\u001b[39;00m\n\u001b[1;32m     20\u001b[0m     w0 \u001b[38;5;241m=\u001b[39m w0 \u001b[38;5;241m-\u001b[39m a\u001b[38;5;241m*\u001b[39mgradient(w0)\n\u001b[1;32m     22\u001b[0m     cost_history\u001b[38;5;241m.\u001b[39mappend(g(w0))\n",
      "\u001b[0;31mZeroDivisionError\u001b[0m: division by zero"
     ]
    }
   ],
   "source": [
    "from autograd import grad \n",
    "\n",
    "def g(w):\n",
    "    return abs(w)\n",
    "\n",
    "#gradient descent function\n",
    "#inputs: g (cost function), alpha (learning rate parameter), max_its (maximum number of iterations), w (initialization)\n",
    "def gradient_descent(g,alpha,max_its,w0):\n",
    "    gradient = grad(g)   ## This is how you use the autograd library to find the gradient of a function \n",
    "    weight_history = []\n",
    "    cost_history = []\n",
    "    a = 1\n",
    "    \n",
    "    ##Your code here\n",
    "    if alpha=='diminishing':\n",
    "        #pass\n",
    "        for k in range(0, max_its+1):\n",
    "            dgdw = w0 / abs(w0)\n",
    "            if k >= 1:\n",
    "                a = 1/k # updates alpha at each step\n",
    "            w0 = w0 - a*gradient(w0)\n",
    "            \n",
    "            cost_history.append(g(w0))\n",
    "            weight_history.append(w0)\n",
    "    else:\n",
    "        pass\n",
    "    return weight_history,cost_history\n",
    "\n",
    "max_its = 20\n",
    "w0 = 1.75\n",
    "k = 1\n",
    "alpha = 'diminishing'\n",
    "weight, cost = gradient_descent(g, alpha, max_its, w0)\n",
    "print(weight)\n",
    "print(cost)"
   ]
  },
  {
   "cell_type": "code",
   "execution_count": null,
   "id": "99d22028-276d-427e-b84b-613924b8c192",
   "metadata": {},
   "outputs": [],
   "source": []
  },
  {
   "cell_type": "code",
   "execution_count": null,
   "id": "21327578-5f02-4a86-a1d7-59ff5347b7a7",
   "metadata": {},
   "outputs": [],
   "source": []
  }
 ],
 "metadata": {
  "kernelspec": {
   "display_name": "Python 3 (ipykernel)",
   "language": "python",
   "name": "python3"
  },
  "language_info": {
   "codemirror_mode": {
    "name": "ipython",
    "version": 3
   },
   "file_extension": ".py",
   "mimetype": "text/x-python",
   "name": "python",
   "nbconvert_exporter": "python",
   "pygments_lexer": "ipython3",
   "version": "3.9.1"
  }
 },
 "nbformat": 4,
 "nbformat_minor": 5
}
